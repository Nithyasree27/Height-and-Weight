{
 "cells": [
  {
   "cell_type": "code",
   "execution_count": 1,
   "id": "1e6395ac",
   "metadata": {},
   "outputs": [],
   "source": [
    "import pandas as pd\n",
    "from scipy import stats\n",
    "import matplotlib.pyplot as plt\n",
    "import seaborn as sns\n",
    "import statsmodels.api as sm\n",
    "from scipy import stats  \n"
   ]
  },
  {
   "cell_type": "code",
   "execution_count": 2,
   "id": "20c6edbc",
   "metadata": {},
   "outputs": [
    {
     "data": {
      "text/html": [
       "<div>\n",
       "<style scoped>\n",
       "    .dataframe tbody tr th:only-of-type {\n",
       "        vertical-align: middle;\n",
       "    }\n",
       "\n",
       "    .dataframe tbody tr th {\n",
       "        vertical-align: top;\n",
       "    }\n",
       "\n",
       "    .dataframe thead th {\n",
       "        text-align: right;\n",
       "    }\n",
       "</style>\n",
       "<table border=\"1\" class=\"dataframe\">\n",
       "  <thead>\n",
       "    <tr style=\"text-align: right;\">\n",
       "      <th></th>\n",
       "      <th>Height</th>\n",
       "      <th>Weight</th>\n",
       "    </tr>\n",
       "  </thead>\n",
       "  <tbody>\n",
       "    <tr>\n",
       "      <th>0</th>\n",
       "      <td>73.847017</td>\n",
       "      <td>241.893563</td>\n",
       "    </tr>\n",
       "    <tr>\n",
       "      <th>1</th>\n",
       "      <td>68.781904</td>\n",
       "      <td>162.310473</td>\n",
       "    </tr>\n",
       "    <tr>\n",
       "      <th>2</th>\n",
       "      <td>74.110105</td>\n",
       "      <td>212.740856</td>\n",
       "    </tr>\n",
       "    <tr>\n",
       "      <th>3</th>\n",
       "      <td>71.730978</td>\n",
       "      <td>220.042470</td>\n",
       "    </tr>\n",
       "    <tr>\n",
       "      <th>4</th>\n",
       "      <td>69.881796</td>\n",
       "      <td>206.349801</td>\n",
       "    </tr>\n",
       "  </tbody>\n",
       "</table>\n",
       "</div>"
      ],
      "text/plain": [
       "      Height      Weight\n",
       "0  73.847017  241.893563\n",
       "1  68.781904  162.310473\n",
       "2  74.110105  212.740856\n",
       "3  71.730978  220.042470\n",
       "4  69.881796  206.349801"
      ]
     },
     "execution_count": 2,
     "metadata": {},
     "output_type": "execute_result"
    }
   ],
   "source": [
    "wh=pd.read_csv(\"E:/imarticus/excels/weight-height.csv\",na_values=\"?\")\n",
    "wh.head(5)"
   ]
  },
  {
   "cell_type": "markdown",
   "id": "880e6638",
   "metadata": {},
   "source": [
    "<h3> UNDERSTANDING THE DATA </h3>"
   ]
  },
  {
   "cell_type": "code",
   "execution_count": 3,
   "id": "599ba978",
   "metadata": {},
   "outputs": [
    {
     "data": {
      "text/plain": [
       "Height    6\n",
       "Weight    4\n",
       "dtype: int64"
      ]
     },
     "execution_count": 3,
     "metadata": {},
     "output_type": "execute_result"
    }
   ],
   "source": [
    "wh.isnull().sum()"
   ]
  },
  {
   "cell_type": "code",
   "execution_count": 4,
   "id": "ab54e0ab",
   "metadata": {},
   "outputs": [
    {
     "data": {
      "text/plain": [
       "count    194.000000\n",
       "mean      68.822166\n",
       "std        2.680003\n",
       "min       61.937323\n",
       "25%       67.002399\n",
       "50%       68.486663\n",
       "75%       70.892505\n",
       "max       76.709835\n",
       "Name: Height, dtype: float64"
      ]
     },
     "execution_count": 4,
     "metadata": {},
     "output_type": "execute_result"
    }
   ],
   "source": [
    "wh.Height.describe()"
   ]
  },
  {
   "cell_type": "code",
   "execution_count": 5,
   "id": "153bbb3c",
   "metadata": {},
   "outputs": [
    {
     "data": {
      "text/plain": [
       "count    196.000000\n",
       "mean     186.220358\n",
       "std       19.365577\n",
       "min      146.739798\n",
       "25%      171.911048\n",
       "50%      183.869431\n",
       "75%      199.179172\n",
       "max      241.893563\n",
       "Name: Weight, dtype: float64"
      ]
     },
     "execution_count": 5,
     "metadata": {},
     "output_type": "execute_result"
    }
   ],
   "source": [
    "wh.Weight.describe()"
   ]
  },
  {
   "cell_type": "markdown",
   "id": "527956b7",
   "metadata": {},
   "source": [
    "<h3> Visualizing the data </h3>"
   ]
  },
  {
   "cell_type": "code",
   "execution_count": 6,
   "id": "8b8b469d",
   "metadata": {},
   "outputs": [
    {
     "data": {
      "text/plain": [
       "<AxesSubplot:>"
      ]
     },
     "execution_count": 6,
     "metadata": {},
     "output_type": "execute_result"
    },
    {
     "data": {
      "image/png": "[encoded data removed]",
      "text/plain": [
       "<Figure size 432x288 with 1 Axes>"
      ]
     },
     "metadata": {
      "needs_background": "light"
     },
     "output_type": "display_data"
    }
   ],
   "source": [
    "wh.Weight.hist()"
   ]
  },
  {
   "cell_type": "code",
   "execution_count": 7,
   "id": "4edd933c",
   "metadata": {},
   "outputs": [
    {
     "data": {
      "text/plain": [
       "ShapiroResult(statistic=nan, pvalue=1.0)"
      ]
     },
     "execution_count": 7,
     "metadata": {},
     "output_type": "execute_result"
    }
   ],
   "source": [
    "stats.shapiro(wh.Weight)"
   ]
  },
  {
   "cell_type": "code",
   "execution_count": 8,
   "id": "8b6218e9",
   "metadata": {},
   "outputs": [
    {
     "data": {
      "text/plain": [
       "<AxesSubplot:>"
      ]
     },
     "execution_count": 8,
     "metadata": {},
     "output_type": "execute_result"
    },
    {
     "data": {
      "image/png": "[encoded data removed]",
      "text/plain": [
       "<Figure size 432x288 with 1 Axes>"
      ]
     },
     "metadata": {
      "needs_background": "light"
     },
     "output_type": "display_data"
    }
   ],
   "source": [
    "wh.Height.hist()"
   ]
  },
  {
   "cell_type": "code",
   "execution_count": 9,
   "id": "ede956cc",
   "metadata": {},
   "outputs": [
    {
     "data": {
      "text/plain": [
       "ShapiroResult(statistic=nan, pvalue=1.0)"
      ]
     },
     "execution_count": 9,
     "metadata": {},
     "output_type": "execute_result"
    }
   ],
   "source": [
    "stats.shapiro(wh.Height)"
   ]
  },
  {
   "cell_type": "markdown",
   "id": "85ce4fbd",
   "metadata": {},
   "source": [
    "<h3> Both Height and Weight are normally distributed</h3>"
   ]
  },
  {
   "cell_type": "code",
   "execution_count": 10,
   "id": "b412e0e1",
   "metadata": {},
   "outputs": [],
   "source": [
    "wh.Weight.fillna(wh.Weight.median(),inplace=True) \n",
    "wh.Height.fillna(wh.Height.median(),inplace=True) "
   ]
  },
  {
   "cell_type": "markdown",
   "id": "4fb27d66",
   "metadata": {},
   "source": [
    "<h3> Filling the null values with their medians because they both have outliers </h3>"
   ]
  },
  {
   "cell_type": "code",
   "execution_count": 21,
   "id": "23ca0861",
   "metadata": {},
   "outputs": [
    {
     "data": {
      "text/plain": [
       "Height    0\n",
       "Weight    0\n",
       "dtype: int64"
      ]
     },
     "execution_count": 21,
     "metadata": {},
     "output_type": "execute_result"
    }
   ],
   "source": [
    "wh.isnull().sum()"
   ]
  },
  {
   "cell_type": "code",
   "execution_count": 11,
   "id": "5b63f081",
   "metadata": {},
   "outputs": [
    {
     "data": {
      "text/plain": [
       "{'whiskers': [<matplotlib.lines.Line2D at 0x155a38fa520>,\n",
       "  <matplotlib.lines.Line2D at 0x155a38fa7f0>],\n",
       " 'caps': [<matplotlib.lines.Line2D at 0x155a38fab80>,\n",
       "  <matplotlib.lines.Line2D at 0x155a38faf10>],\n",
       " 'boxes': [<matplotlib.lines.Line2D at 0x155a38fa0d0>],\n",
       " 'medians': [<matplotlib.lines.Line2D at 0x155a39072e0>],\n",
       " 'fliers': [<matplotlib.lines.Line2D at 0x155a3907670>],\n",
       " 'means': []}"
      ]
     },
     "execution_count": 11,
     "metadata": {},
     "output_type": "execute_result"
    },
    {
     "data": {
      "image/png": "[encoded data removed]",
      "text/plain": [
       "<Figure size 432x288 with 1 Axes>"
      ]
     },
     "metadata": {
      "needs_background": "light"
     },
     "output_type": "display_data"
    }
   ],
   "source": [
    "plt.boxplot(wh.Weight)"
   ]
  },
  {
   "cell_type": "code",
   "execution_count": 22,
   "id": "91819fe1",
   "metadata": {},
   "outputs": [
    {
     "data": {
      "text/plain": [
       "{'whiskers': [<matplotlib.lines.Line2D at 0x155a42786d0>,\n",
       "  <matplotlib.lines.Line2D at 0x155a4278a60>],\n",
       " 'caps': [<matplotlib.lines.Line2D at 0x155a4278df0>,\n",
       "  <matplotlib.lines.Line2D at 0x155a42861c0>],\n",
       " 'boxes': [<matplotlib.lines.Line2D at 0x155a42783d0>],\n",
       " 'medians': [<matplotlib.lines.Line2D at 0x155a4286550>],\n",
       " 'fliers': [<matplotlib.lines.Line2D at 0x155a42868e0>],\n",
       " 'means': []}"
      ]
     },
     "execution_count": 22,
     "metadata": {},
     "output_type": "execute_result"
    },
    {
     "data": {
      "image/png": "[encoded data removed]",
      "text/plain": [
       "<Figure size 432x288 with 1 Axes>"
      ]
     },
     "metadata": {
      "needs_background": "light"
     },
     "output_type": "display_data"
    }
   ],
   "source": [
    "plt.boxplot(wh.Height)"
   ]
  },
  {
   "cell_type": "code",
   "execution_count": 23,
   "id": "e328dfee",
   "metadata": {},
   "outputs": [
    {
     "data": {
      "text/plain": [
       "<AxesSubplot:xlabel='Height', ylabel='Weight'>"
      ]
     },
     "execution_count": 23,
     "metadata": {},
     "output_type": "execute_result"
    },
    {
     "data": {
      "image/png": "[encoded data removed]",
      "text/plain": [
       "<Figure size 432x288 with 1 Axes>"
      ]
     },
     "metadata": {
      "needs_background": "light"
     },
     "output_type": "display_data"
    }
   ],
   "source": [
    "sns.scatterplot(x='Height',y='Weight',data=wh)"
   ]
  },
  {
   "cell_type": "markdown",
   "id": "c315811a",
   "metadata": {},
   "source": [
    "<h3>Checking for the correlation between the variables</h3>"
   ]
  },
  {
   "cell_type": "code",
   "execution_count": 24,
   "id": "3fd38dd7",
   "metadata": {},
   "outputs": [
    {
     "data": {
      "text/plain": [
       "(0.7880577312908825, 1.3692990727512702e-43)"
      ]
     },
     "execution_count": 24,
     "metadata": {},
     "output_type": "execute_result"
    }
   ],
   "source": [
    "stats.pearsonr(wh.Height,wh.Weight)"
   ]
  },
  {
   "cell_type": "markdown",
   "id": "2e3ea4b6",
   "metadata": {},
   "source": [
    "<h3>The correlation is positive medium, So we can proceed  for linear regression</h3>"
   ]
  },
  {
   "cell_type": "markdown",
   "id": "e0eb4c02",
   "metadata": {},
   "source": [
    "<h2>Performing Linear Regression</h2><br>\n",
    "\n",
    "<h3>Dividing the data for Train and Test</h3>"
   ]
  },
  {
   "cell_type": "code",
   "execution_count": 25,
   "id": "ac69d46d",
   "metadata": {},
   "outputs": [],
   "source": [
    "train=wh.iloc[:160]\n",
    "test=wh.iloc[160:]"
   ]
  },
  {
   "cell_type": "code",
   "execution_count": 26,
   "id": "e3a1298b",
   "metadata": {},
   "outputs": [
    {
     "name": "stderr",
     "output_type": "stream",
     "text": [
      "C:\\Users\\Jothy Natarajan\\anaconda3\\lib\\site-packages\\statsmodels\\tsa\\tsatools.py:142: FutureWarning: In a future version of pandas all arguments of concat except for the argument 'objs' will be keyword-only\n",
      "  x = pd.concat(x[::order], 1)\n"
     ]
    }
   ],
   "source": [
    "train_x=train.Height\n",
    "train_y=train.Weight\n",
    "train_xc=sm.add_constant(train_x)"
   ]
  },
  {
   "cell_type": "code",
   "execution_count": 27,
   "id": "b583aa88",
   "metadata": {},
   "outputs": [],
   "source": [
    "model=sm.OLS(train_y,train_xc).fit() "
   ]
  },
  {
   "cell_type": "code",
   "execution_count": 28,
   "id": "10800573",
   "metadata": {},
   "outputs": [
    {
     "data": {
      "text/html": [
       "<table class=\"simpletable\">\n",
       "<caption>OLS Regression Results</caption>\n",
       "<tr>\n",
       "  <th>Dep. Variable:</th>         <td>Weight</td>      <th>  R-squared:         </th> <td>   0.615</td>\n",
       "</tr>\n",
       "<tr>\n",
       "  <th>Model:</th>                   <td>OLS</td>       <th>  Adj. R-squared:    </th> <td>   0.613</td>\n",
       "</tr>\n",
       "<tr>\n",
       "  <th>Method:</th>             <td>Least Squares</td>  <th>  F-statistic:       </th> <td>   252.7</td>\n",
       "</tr>\n",
       "<tr>\n",
       "  <th>Date:</th>             <td>Mon, 04 Apr 2022</td> <th>  Prob (F-statistic):</th> <td>1.34e-34</td>\n",
       "</tr>\n",
       "<tr>\n",
       "  <th>Time:</th>                 <td>01:04:32</td>     <th>  Log-Likelihood:    </th> <td> -619.91</td>\n",
       "</tr>\n",
       "<tr>\n",
       "  <th>No. Observations:</th>      <td>   160</td>      <th>  AIC:               </th> <td>   1244.</td>\n",
       "</tr>\n",
       "<tr>\n",
       "  <th>Df Residuals:</th>          <td>   158</td>      <th>  BIC:               </th> <td>   1250.</td>\n",
       "</tr>\n",
       "<tr>\n",
       "  <th>Df Model:</th>              <td>     1</td>      <th>                     </th>     <td> </td>   \n",
       "</tr>\n",
       "<tr>\n",
       "  <th>Covariance Type:</th>      <td>nonrobust</td>    <th>                     </th>     <td> </td>   \n",
       "</tr>\n",
       "</table>\n",
       "<table class=\"simpletable\">\n",
       "<tr>\n",
       "     <td></td>       <th>coef</th>     <th>std err</th>      <th>t</th>      <th>P>|t|</th>  <th>[0.025</th>    <th>0.975]</th>  \n",
       "</tr>\n",
       "<tr>\n",
       "  <th>const</th>  <td> -213.4749</td> <td>   25.090</td> <td>   -8.508</td> <td> 0.000</td> <td> -263.030</td> <td> -163.919</td>\n",
       "</tr>\n",
       "<tr>\n",
       "  <th>Height</th> <td>    5.7969</td> <td>    0.365</td> <td>   15.898</td> <td> 0.000</td> <td>    5.077</td> <td>    6.517</td>\n",
       "</tr>\n",
       "</table>\n",
       "<table class=\"simpletable\">\n",
       "<tr>\n",
       "  <th>Omnibus:</th>       <td> 1.666</td> <th>  Durbin-Watson:     </th> <td>   1.995</td>\n",
       "</tr>\n",
       "<tr>\n",
       "  <th>Prob(Omnibus):</th> <td> 0.435</td> <th>  Jarque-Bera (JB):  </th> <td>   1.554</td>\n",
       "</tr>\n",
       "<tr>\n",
       "  <th>Skew:</th>          <td> 0.241</td> <th>  Prob(JB):          </th> <td>   0.460</td>\n",
       "</tr>\n",
       "<tr>\n",
       "  <th>Kurtosis:</th>      <td> 2.964</td> <th>  Cond. No.          </th> <td>1.86e+03</td>\n",
       "</tr>\n",
       "</table><br/><br/>Notes:<br/>[1] Standard Errors assume that the covariance matrix of the errors is correctly specified.<br/>[2] The condition number is large, 1.86e+03. This might indicate that there are<br/>strong multicollinearity or other numerical problems."
      ],
      "text/plain": [
       "<class 'statsmodels.iolib.summary.Summary'>\n",
       "\"\"\"\n",
       "                            OLS Regression Results                            \n",
       "==============================================================================\n",
       "Dep. Variable:                 Weight   R-squared:                       0.615\n",
       "Model:                            OLS   Adj. R-squared:                  0.613\n",
       "Method:                 Least Squares   F-statistic:                     252.7\n",
       "Date:                Mon, 04 Apr 2022   Prob (F-statistic):           1.34e-34\n",
       "Time:                        01:04:32   Log-Likelihood:                -619.91\n",
       "No. Observations:                 160   AIC:                             1244.\n",
       "Df Residuals:                     158   BIC:                             1250.\n",
       "Df Model:                           1                                         \n",
       "Covariance Type:            nonrobust                                         \n",
       "==============================================================================\n",
       "                 coef    std err          t      P>|t|      [0.025      0.975]\n",
       "------------------------------------------------------------------------------\n",
       "const       -213.4749     25.090     -8.508      0.000    -263.030    -163.919\n",
       "Height         5.7969      0.365     15.898      0.000       5.077       6.517\n",
       "==============================================================================\n",
       "Omnibus:                        1.666   Durbin-Watson:                   1.995\n",
       "Prob(Omnibus):                  0.435   Jarque-Bera (JB):                1.554\n",
       "Skew:                           0.241   Prob(JB):                        0.460\n",
       "Kurtosis:                       2.964   Cond. No.                     1.86e+03\n",
       "==============================================================================\n",
       "\n",
       "Notes:\n",
       "[1] Standard Errors assume that the covariance matrix of the errors is correctly specified.\n",
       "[2] The condition number is large, 1.86e+03. This might indicate that there are\n",
       "strong multicollinearity or other numerical problems.\n",
       "\"\"\""
      ]
     },
     "execution_count": 28,
     "metadata": {},
     "output_type": "execute_result"
    }
   ],
   "source": [
    "model.summary()"
   ]
  },
  {
   "cell_type": "code",
   "execution_count": 33,
   "id": "006a7d05",
   "metadata": {},
   "outputs": [
    {
     "name": "stderr",
     "output_type": "stream",
     "text": [
      "C:\\Users\\Jothy Natarajan\\anaconda3\\lib\\site-packages\\statsmodels\\tsa\\tsatools.py:142: FutureWarning: In a future version of pandas all arguments of concat except for the argument 'objs' will be keyword-only\n",
      "  x = pd.concat(x[::order], 1)\n"
     ]
    }
   ],
   "source": [
    "train_y_pre=model.predict(train_xc)\n",
    "\n",
    "test_x=test.Height\n",
    "test_y=test.Weight\n",
    "test_xc=sm.add_constant(test_x)\n",
    "test_y_pre=model.predict(test_xc)"
   ]
  },
  {
   "cell_type": "markdown",
   "id": "dea2b834",
   "metadata": {},
   "source": [
    "<h3>For train datas</h3>"
   ]
  },
  {
   "cell_type": "code",
   "execution_count": 34,
   "id": "19ec3829",
   "metadata": {},
   "outputs": [
    {
     "name": "stderr",
     "output_type": "stream",
     "text": [
      "C:\\Users\\Jothy Natarajan\\AppData\\Local\\Temp/ipykernel_36328/2041012021.py:2: UserWarning: color is redundantly defined by the 'color' keyword argument and the fmt string \"r\" (-> color=(1.0, 0.0, 0.0, 1)). The keyword argument will take precedence.\n",
      "  plt.plot(train.Height,train_y_pre,'r',color='red')\n"
     ]
    },
    {
     "data": {
      "image/png": "[encoded data removed]",
      "text/plain": [
       "<Figure size 432x288 with 1 Axes>"
      ]
     },
     "metadata": {
      "needs_background": "light"
     },
     "output_type": "display_data"
    }
   ],
   "source": [
    "plt.scatter(train.Height,train.Weight,color='blue')\n",
    "plt.plot(train.Height,train_y_pre,'r',color='red')\n",
    "plt.show()"
   ]
  },
  {
   "cell_type": "markdown",
   "id": "828c5473",
   "metadata": {},
   "source": [
    "<h3>For test datas</h3>"
   ]
  },
  {
   "cell_type": "code",
   "execution_count": 35,
   "id": "2e1ea69c",
   "metadata": {},
   "outputs": [
    {
     "name": "stderr",
     "output_type": "stream",
     "text": [
      "C:\\Users\\Jothy Natarajan\\AppData\\Local\\Temp/ipykernel_36328/3224931797.py:2: UserWarning: color is redundantly defined by the 'color' keyword argument and the fmt string \"r\" (-> color=(1.0, 0.0, 0.0, 1)). The keyword argument will take precedence.\n",
      "  plt.plot(test.Height,test_y_pre,'r',color='red')\n"
     ]
    },
    {
     "data": {
      "image/png": "[encoded data removed]",
      "text/plain": [
       "<Figure size 432x288 with 1 Axes>"
      ]
     },
     "metadata": {
      "needs_background": "light"
     },
     "output_type": "display_data"
    }
   ],
   "source": [
    "plt.scatter(test.Height,test.Weight,color='green')\n",
    "plt.plot(test.Height,test_y_pre,'r',color='red')\n",
    "plt.show()"
   ]
  },
  {
   "cell_type": "code",
   "execution_count": null,
   "id": "fe46750b",
   "metadata": {},
   "outputs": [],
   "source": []
  }
 ],
 "metadata": {
  "kernelspec": {
   "display_name": "Python 3 (ipykernel)",
   "language": "python",
   "name": "python3"
  },
  "language_info": {
   "codemirror_mode": {
    "name": "ipython",
    "version": 3
   },
   "file_extension": ".py",
   "mimetype": "text/x-python",
   "name": "python",
   "nbconvert_exporter": "python",
   "pygments_lexer": "ipython3",
   "version": "3.9.7"
  }
 },
 "nbformat": 4,
 "nbformat_minor": 5
}
